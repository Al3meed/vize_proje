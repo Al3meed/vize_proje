{
 "cells": [
  {
   "cell_type": "markdown",
   "metadata": {},
   "source": [
    "# Toxic and non-Toxic(edible) Mushroom Classifier"
   ]
  },
  {
   "cell_type": "markdown",
   "metadata": {},
   "source": [
    "**In this project a calssification model built according to a dataset of Mushroom types and shapes, this model use the geometry and shape data of mushrroms then detect if a mushroom is Toxic or non-toxic**."
   ]
  },
  {
   "cell_type": "markdown",
   "metadata": {},
   "source": [
    "## Dataset Parameters"
   ]
  },
  {
   "cell_type": "markdown",
   "metadata": {},
   "source": [
    "0. **cap-shape :** 0 = bell, 1 = conical, 2 = convex, 3 = flat, 4 = knobbed, 5 = sunken\n",
    "1. **cap-surface :** 0 = fibrous, 1 = grooves, 2 = scaly, 3 = smooth\n",
    "2. **cap-color :** 0 = brown, 1 = buff, 2 = cinnamon, 3 = gray, 4 = green, 5 = pink, 6 = purple, 7 = red, 8 = white, 9 = yellow\n",
    "3. **bruises? :** 0 = bruises, 1 = no\n",
    "4. **odor :**0 = almond, 1 = anise, 2 = creosote, 8 = fishy, 4 = foul, 5 = musty, 6 = none, 7 = pungent, 3 = spicy\n",
    "5. **gill-attachment :** 0 = attached, 1 = free\n",
    "6. **gill-spacing :** 0 = close, 1 = crowded\n",
    "7. **gill-size :** 0 = broad, 1 = narrow\n",
    "8. **gill-color :** 0 = black, 1 = brown, 2 = buff, 3 = chocolate, 4 = gray, 5 = green, 6 = orange, 7 = pink, 8 = purple, 9 = red, 10 = white, 11 = yellow\n",
    "9. **stalk-shape :** 0 = enlarging, 1 = tapering\n",
    "10. **stalk-root :** 1 = bulbous, 2 = club, 3 = equal, 4 = rooted, 0 = missing\n",
    "11. **stalk-surface-above-ring :** 0 = fibrous, 1 = scaly, 2 = silky, 3 = smooth\n",
    "12. **stalk-surface-below-ring :** 0 = fibrous, 1 = scaly, 2 = silky, 3 = smooth\n",
    "13. **stalk-color-above-ring :** 0 = brown, 1 = buff, 2 = cinnamon, 3 = gray, 4 = orange, 5 = pink, 6 = red, 7 = white, 8 = yellow\n",
    "14. **stalk-color-below-ring :** 0 = brown, 1 = buff, 2 = cinnamon, 3 = gray, 4 = orange, 5 = pink, 6 = red, 7 = white, 8 = yellow\n",
    "15. **veil-type :** 0 = partial, 1 = universal\n",
    "16. **veil-color :** 0 = brown, 1 = orange, 2 = white, 3 = yellow\n",
    "17. **ring-number :** 0 = none, 1 = one, 2 = two\n",
    "18. **ring-type :** 0 = evanescent, 1 = flaring, 2 = large, 3 = none, 4 = pendant\n",
    "19. **spore-print-color :** 0 = black, 1 = brown, 2 = buff, 3 = chocolate, 4 = green, 5 = orange, 6 = purple, 7 = white, 8 = yellow\n",
    "20. **population :** 0 = abundant, 1 = clustered, 2 = numerous, 3 = scattered, 4 = several, 5 = solitary\n",
    "21. **habitat :** 0 = grasses, 1 = leaves, 2 = meadows, 3 = paths, 4 = urban, 5 = waste, 6 = woods\n",
    "22. **target :** 1 = poisonous(Toxic), 0 = edible(non-Toxic)"
   ]
  },
  {
   "cell_type": "markdown",
   "metadata": {},
   "source": [
    "### Checking for missing valuses and mismatches: "
   ]
  },
  {
   "cell_type": "code",
   "execution_count": 32,
   "metadata": {},
   "outputs": [
    {
     "name": "stdout",
     "output_type": "stream",
     "text": [
      "<class 'pandas.core.frame.DataFrame'>\n",
      "RangeIndex: 8124 entries, 0 to 8123\n",
      "Data columns (total 23 columns):\n",
      " #   Column                    Non-Null Count  Dtype\n",
      "---  ------                    --------------  -----\n",
      " 0   cap-shape                 8124 non-null   int64\n",
      " 1   cap-surface               8124 non-null   int64\n",
      " 2   cap-color                 8124 non-null   int64\n",
      " 3   bruises?                  8124 non-null   int64\n",
      " 4   odor                      8124 non-null   int64\n",
      " 5   gill-attachment           8124 non-null   int64\n",
      " 6   gill-spacing              8124 non-null   int64\n",
      " 7   gill-size                 8124 non-null   int64\n",
      " 8   gill-color                8124 non-null   int64\n",
      " 9   stalk-shape               8124 non-null   int64\n",
      " 10  stalk-root                8124 non-null   int64\n",
      " 11  stalk-surface-above-ring  8124 non-null   int64\n",
      " 12  stalk-surface-below-ring  8124 non-null   int64\n",
      " 13  stalk-color-above-ring    8124 non-null   int64\n",
      " 14  stalk-color-below-ring    8124 non-null   int64\n",
      " 15  veil-type                 8124 non-null   int64\n",
      " 16  veil-color                8124 non-null   int64\n",
      " 17  ring-number               8124 non-null   int64\n",
      " 18  ring-type                 8124 non-null   int64\n",
      " 19  spore-print-color         8124 non-null   int64\n",
      " 20  population                8124 non-null   int64\n",
      " 21  habitat                   8124 non-null   int64\n",
      " 22  target                    8124 non-null   int64\n",
      "dtypes: int64(23)\n",
      "memory usage: 1.4 MB\n"
     ]
    }
   ],
   "source": [
    "import pandas as pd \n",
    "import numpy as np \n",
    "import matplotlib.pyplot as plt\n",
    "import seaborn as sns \n",
    "\n",
    "df = pd.read_table('mushroom.tsv')\n",
    "df.info()"
   ]
  },
  {
   "cell_type": "code",
   "execution_count": 33,
   "metadata": {},
   "outputs": [
    {
     "data": {
      "text/html": [
       "<div>\n",
       "<style scoped>\n",
       "    .dataframe tbody tr th:only-of-type {\n",
       "        vertical-align: middle;\n",
       "    }\n",
       "\n",
       "    .dataframe tbody tr th {\n",
       "        vertical-align: top;\n",
       "    }\n",
       "\n",
       "    .dataframe thead th {\n",
       "        text-align: right;\n",
       "    }\n",
       "</style>\n",
       "<table border=\"1\" class=\"dataframe\">\n",
       "  <thead>\n",
       "    <tr style=\"text-align: right;\">\n",
       "      <th></th>\n",
       "      <th>cap-shape</th>\n",
       "      <th>cap-surface</th>\n",
       "      <th>cap-color</th>\n",
       "      <th>bruises?</th>\n",
       "      <th>odor</th>\n",
       "      <th>gill-attachment</th>\n",
       "      <th>gill-spacing</th>\n",
       "      <th>gill-size</th>\n",
       "      <th>gill-color</th>\n",
       "      <th>stalk-shape</th>\n",
       "      <th>stalk-root</th>\n",
       "      <th>stalk-surface-above-ring</th>\n",
       "      <th>stalk-surface-below-ring</th>\n",
       "      <th>stalk-color-above-ring</th>\n",
       "      <th>stalk-color-below-ring</th>\n",
       "      <th>veil-type</th>\n",
       "      <th>veil-color</th>\n",
       "      <th>ring-number</th>\n",
       "      <th>ring-type</th>\n",
       "      <th>spore-print-color</th>\n",
       "      <th>population</th>\n",
       "      <th>habitat</th>\n",
       "      <th>target</th>\n",
       "    </tr>\n",
       "  </thead>\n",
       "  <tbody>\n",
       "    <tr>\n",
       "      <th>0</th>\n",
       "      <td>2</td>\n",
       "      <td>0</td>\n",
       "      <td>7</td>\n",
       "      <td>0</td>\n",
       "      <td>6</td>\n",
       "      <td>1</td>\n",
       "      <td>0</td>\n",
       "      <td>0</td>\n",
       "      <td>8</td>\n",
       "      <td>1</td>\n",
       "      <td>1</td>\n",
       "      <td>3</td>\n",
       "      <td>3</td>\n",
       "      <td>3</td>\n",
       "      <td>5</td>\n",
       "      <td>0</td>\n",
       "      <td>2</td>\n",
       "      <td>1</td>\n",
       "      <td>4</td>\n",
       "      <td>1</td>\n",
       "      <td>4</td>\n",
       "      <td>6</td>\n",
       "      <td>0</td>\n",
       "    </tr>\n",
       "    <tr>\n",
       "      <th>1</th>\n",
       "      <td>0</td>\n",
       "      <td>3</td>\n",
       "      <td>9</td>\n",
       "      <td>0</td>\n",
       "      <td>0</td>\n",
       "      <td>1</td>\n",
       "      <td>0</td>\n",
       "      <td>0</td>\n",
       "      <td>4</td>\n",
       "      <td>0</td>\n",
       "      <td>2</td>\n",
       "      <td>3</td>\n",
       "      <td>3</td>\n",
       "      <td>7</td>\n",
       "      <td>7</td>\n",
       "      <td>0</td>\n",
       "      <td>2</td>\n",
       "      <td>1</td>\n",
       "      <td>4</td>\n",
       "      <td>0</td>\n",
       "      <td>2</td>\n",
       "      <td>0</td>\n",
       "      <td>0</td>\n",
       "    </tr>\n",
       "    <tr>\n",
       "      <th>2</th>\n",
       "      <td>2</td>\n",
       "      <td>3</td>\n",
       "      <td>8</td>\n",
       "      <td>1</td>\n",
       "      <td>6</td>\n",
       "      <td>1</td>\n",
       "      <td>1</td>\n",
       "      <td>0</td>\n",
       "      <td>0</td>\n",
       "      <td>1</td>\n",
       "      <td>3</td>\n",
       "      <td>0</td>\n",
       "      <td>3</td>\n",
       "      <td>7</td>\n",
       "      <td>7</td>\n",
       "      <td>0</td>\n",
       "      <td>2</td>\n",
       "      <td>1</td>\n",
       "      <td>0</td>\n",
       "      <td>0</td>\n",
       "      <td>3</td>\n",
       "      <td>0</td>\n",
       "      <td>0</td>\n",
       "    </tr>\n",
       "    <tr>\n",
       "      <th>3</th>\n",
       "      <td>2</td>\n",
       "      <td>2</td>\n",
       "      <td>3</td>\n",
       "      <td>1</td>\n",
       "      <td>4</td>\n",
       "      <td>1</td>\n",
       "      <td>0</td>\n",
       "      <td>0</td>\n",
       "      <td>4</td>\n",
       "      <td>0</td>\n",
       "      <td>1</td>\n",
       "      <td>2</td>\n",
       "      <td>2</td>\n",
       "      <td>0</td>\n",
       "      <td>5</td>\n",
       "      <td>0</td>\n",
       "      <td>2</td>\n",
       "      <td>1</td>\n",
       "      <td>2</td>\n",
       "      <td>3</td>\n",
       "      <td>4</td>\n",
       "      <td>3</td>\n",
       "      <td>1</td>\n",
       "    </tr>\n",
       "    <tr>\n",
       "      <th>4</th>\n",
       "      <td>3</td>\n",
       "      <td>0</td>\n",
       "      <td>0</td>\n",
       "      <td>0</td>\n",
       "      <td>6</td>\n",
       "      <td>1</td>\n",
       "      <td>0</td>\n",
       "      <td>0</td>\n",
       "      <td>8</td>\n",
       "      <td>1</td>\n",
       "      <td>1</td>\n",
       "      <td>3</td>\n",
       "      <td>3</td>\n",
       "      <td>7</td>\n",
       "      <td>5</td>\n",
       "      <td>0</td>\n",
       "      <td>2</td>\n",
       "      <td>1</td>\n",
       "      <td>4</td>\n",
       "      <td>0</td>\n",
       "      <td>5</td>\n",
       "      <td>6</td>\n",
       "      <td>0</td>\n",
       "    </tr>\n",
       "  </tbody>\n",
       "</table>\n",
       "</div>"
      ],
      "text/plain": [
       "   cap-shape  cap-surface  cap-color  bruises?  odor  ...  ring-type  spore-print-color  population  habitat  target\n",
       "0          2            0          7         0     6  ...          4                  1           4        6       0\n",
       "1          0            3          9         0     0  ...          4                  0           2        0       0\n",
       "2          2            3          8         1     6  ...          0                  0           3        0       0\n",
       "3          2            2          3         1     4  ...          2                  3           4        3       1\n",
       "4          3            0          0         0     6  ...          4                  0           5        6       0\n",
       "\n",
       "[5 rows x 23 columns]"
      ]
     },
     "execution_count": 33,
     "metadata": {},
     "output_type": "execute_result"
    }
   ],
   "source": [
    "df.head()"
   ]
  },
  {
   "cell_type": "code",
   "execution_count": 34,
   "metadata": {},
   "outputs": [
    {
     "data": {
      "text/html": [
       "<div>\n",
       "<style scoped>\n",
       "    .dataframe tbody tr th:only-of-type {\n",
       "        vertical-align: middle;\n",
       "    }\n",
       "\n",
       "    .dataframe tbody tr th {\n",
       "        vertical-align: top;\n",
       "    }\n",
       "\n",
       "    .dataframe thead th {\n",
       "        text-align: right;\n",
       "    }\n",
       "</style>\n",
       "<table border=\"1\" class=\"dataframe\">\n",
       "  <thead>\n",
       "    <tr style=\"text-align: right;\">\n",
       "      <th></th>\n",
       "      <th>cap-shape</th>\n",
       "      <th>cap-surface</th>\n",
       "      <th>cap-color</th>\n",
       "      <th>bruises?</th>\n",
       "      <th>odor</th>\n",
       "      <th>gill-attachment</th>\n",
       "      <th>gill-spacing</th>\n",
       "      <th>gill-size</th>\n",
       "      <th>gill-color</th>\n",
       "      <th>stalk-shape</th>\n",
       "      <th>stalk-root</th>\n",
       "      <th>stalk-surface-above-ring</th>\n",
       "      <th>stalk-surface-below-ring</th>\n",
       "      <th>stalk-color-above-ring</th>\n",
       "      <th>stalk-color-below-ring</th>\n",
       "      <th>veil-type</th>\n",
       "      <th>veil-color</th>\n",
       "      <th>ring-number</th>\n",
       "      <th>ring-type</th>\n",
       "      <th>spore-print-color</th>\n",
       "      <th>population</th>\n",
       "      <th>habitat</th>\n",
       "      <th>target</th>\n",
       "    </tr>\n",
       "  </thead>\n",
       "  <tbody>\n",
       "    <tr>\n",
       "      <th>count</th>\n",
       "      <td>8124.000000</td>\n",
       "      <td>8124.000000</td>\n",
       "      <td>8124.000000</td>\n",
       "      <td>8124.000000</td>\n",
       "      <td>8124.000000</td>\n",
       "      <td>8124.000000</td>\n",
       "      <td>8124.000000</td>\n",
       "      <td>8124.000000</td>\n",
       "      <td>8124.000000</td>\n",
       "      <td>8124.000000</td>\n",
       "      <td>8124.000000</td>\n",
       "      <td>8124.000000</td>\n",
       "      <td>8124.000000</td>\n",
       "      <td>8124.000000</td>\n",
       "      <td>8124.000000</td>\n",
       "      <td>8124.0</td>\n",
       "      <td>8124.000000</td>\n",
       "      <td>8124.000000</td>\n",
       "      <td>8124.000000</td>\n",
       "      <td>8124.000000</td>\n",
       "      <td>8124.000000</td>\n",
       "      <td>8124.000000</td>\n",
       "      <td>8124.000000</td>\n",
       "    </tr>\n",
       "    <tr>\n",
       "      <th>mean</th>\n",
       "      <td>2.491876</td>\n",
       "      <td>1.742984</td>\n",
       "      <td>4.323486</td>\n",
       "      <td>0.584441</td>\n",
       "      <td>4.788282</td>\n",
       "      <td>0.974151</td>\n",
       "      <td>0.161497</td>\n",
       "      <td>0.309207</td>\n",
       "      <td>4.729444</td>\n",
       "      <td>0.567208</td>\n",
       "      <td>1.109798</td>\n",
       "      <td>2.498277</td>\n",
       "      <td>2.424914</td>\n",
       "      <td>5.446578</td>\n",
       "      <td>5.393402</td>\n",
       "      <td>0.0</td>\n",
       "      <td>1.965534</td>\n",
       "      <td>1.069424</td>\n",
       "      <td>2.291974</td>\n",
       "      <td>3.062038</td>\n",
       "      <td>3.644018</td>\n",
       "      <td>3.221073</td>\n",
       "      <td>0.482029</td>\n",
       "    </tr>\n",
       "    <tr>\n",
       "      <th>std</th>\n",
       "      <td>0.901287</td>\n",
       "      <td>1.179629</td>\n",
       "      <td>3.444391</td>\n",
       "      <td>0.492848</td>\n",
       "      <td>1.983678</td>\n",
       "      <td>0.158695</td>\n",
       "      <td>0.368011</td>\n",
       "      <td>0.462195</td>\n",
       "      <td>3.342402</td>\n",
       "      <td>0.495493</td>\n",
       "      <td>1.061106</td>\n",
       "      <td>0.814658</td>\n",
       "      <td>0.870347</td>\n",
       "      <td>2.143900</td>\n",
       "      <td>2.194604</td>\n",
       "      <td>0.0</td>\n",
       "      <td>0.242669</td>\n",
       "      <td>0.271064</td>\n",
       "      <td>1.801672</td>\n",
       "      <td>2.825308</td>\n",
       "      <td>1.252082</td>\n",
       "      <td>2.530692</td>\n",
       "      <td>0.499708</td>\n",
       "    </tr>\n",
       "    <tr>\n",
       "      <th>min</th>\n",
       "      <td>0.000000</td>\n",
       "      <td>0.000000</td>\n",
       "      <td>0.000000</td>\n",
       "      <td>0.000000</td>\n",
       "      <td>0.000000</td>\n",
       "      <td>0.000000</td>\n",
       "      <td>0.000000</td>\n",
       "      <td>0.000000</td>\n",
       "      <td>0.000000</td>\n",
       "      <td>0.000000</td>\n",
       "      <td>0.000000</td>\n",
       "      <td>0.000000</td>\n",
       "      <td>0.000000</td>\n",
       "      <td>0.000000</td>\n",
       "      <td>0.000000</td>\n",
       "      <td>0.0</td>\n",
       "      <td>0.000000</td>\n",
       "      <td>0.000000</td>\n",
       "      <td>0.000000</td>\n",
       "      <td>0.000000</td>\n",
       "      <td>0.000000</td>\n",
       "      <td>0.000000</td>\n",
       "      <td>0.000000</td>\n",
       "    </tr>\n",
       "    <tr>\n",
       "      <th>25%</th>\n",
       "      <td>2.000000</td>\n",
       "      <td>0.000000</td>\n",
       "      <td>0.000000</td>\n",
       "      <td>0.000000</td>\n",
       "      <td>4.000000</td>\n",
       "      <td>1.000000</td>\n",
       "      <td>0.000000</td>\n",
       "      <td>0.000000</td>\n",
       "      <td>2.000000</td>\n",
       "      <td>0.000000</td>\n",
       "      <td>0.000000</td>\n",
       "      <td>2.000000</td>\n",
       "      <td>2.000000</td>\n",
       "      <td>5.000000</td>\n",
       "      <td>5.000000</td>\n",
       "      <td>0.0</td>\n",
       "      <td>2.000000</td>\n",
       "      <td>1.000000</td>\n",
       "      <td>0.000000</td>\n",
       "      <td>1.000000</td>\n",
       "      <td>3.000000</td>\n",
       "      <td>0.000000</td>\n",
       "      <td>0.000000</td>\n",
       "    </tr>\n",
       "    <tr>\n",
       "      <th>50%</th>\n",
       "      <td>2.000000</td>\n",
       "      <td>2.000000</td>\n",
       "      <td>3.000000</td>\n",
       "      <td>1.000000</td>\n",
       "      <td>6.000000</td>\n",
       "      <td>1.000000</td>\n",
       "      <td>0.000000</td>\n",
       "      <td>0.000000</td>\n",
       "      <td>4.000000</td>\n",
       "      <td>1.000000</td>\n",
       "      <td>1.000000</td>\n",
       "      <td>3.000000</td>\n",
       "      <td>3.000000</td>\n",
       "      <td>7.000000</td>\n",
       "      <td>7.000000</td>\n",
       "      <td>0.0</td>\n",
       "      <td>2.000000</td>\n",
       "      <td>1.000000</td>\n",
       "      <td>2.000000</td>\n",
       "      <td>3.000000</td>\n",
       "      <td>4.000000</td>\n",
       "      <td>3.000000</td>\n",
       "      <td>0.000000</td>\n",
       "    </tr>\n",
       "    <tr>\n",
       "      <th>75%</th>\n",
       "      <td>3.000000</td>\n",
       "      <td>3.000000</td>\n",
       "      <td>8.000000</td>\n",
       "      <td>1.000000</td>\n",
       "      <td>6.000000</td>\n",
       "      <td>1.000000</td>\n",
       "      <td>0.000000</td>\n",
       "      <td>1.000000</td>\n",
       "      <td>7.000000</td>\n",
       "      <td>1.000000</td>\n",
       "      <td>1.000000</td>\n",
       "      <td>3.000000</td>\n",
       "      <td>3.000000</td>\n",
       "      <td>7.000000</td>\n",
       "      <td>7.000000</td>\n",
       "      <td>0.0</td>\n",
       "      <td>2.000000</td>\n",
       "      <td>1.000000</td>\n",
       "      <td>4.000000</td>\n",
       "      <td>7.000000</td>\n",
       "      <td>4.000000</td>\n",
       "      <td>6.000000</td>\n",
       "      <td>1.000000</td>\n",
       "    </tr>\n",
       "    <tr>\n",
       "      <th>max</th>\n",
       "      <td>5.000000</td>\n",
       "      <td>3.000000</td>\n",
       "      <td>9.000000</td>\n",
       "      <td>1.000000</td>\n",
       "      <td>8.000000</td>\n",
       "      <td>1.000000</td>\n",
       "      <td>1.000000</td>\n",
       "      <td>1.000000</td>\n",
       "      <td>11.000000</td>\n",
       "      <td>1.000000</td>\n",
       "      <td>4.000000</td>\n",
       "      <td>3.000000</td>\n",
       "      <td>3.000000</td>\n",
       "      <td>8.000000</td>\n",
       "      <td>8.000000</td>\n",
       "      <td>0.0</td>\n",
       "      <td>3.000000</td>\n",
       "      <td>2.000000</td>\n",
       "      <td>4.000000</td>\n",
       "      <td>8.000000</td>\n",
       "      <td>5.000000</td>\n",
       "      <td>6.000000</td>\n",
       "      <td>1.000000</td>\n",
       "    </tr>\n",
       "  </tbody>\n",
       "</table>\n",
       "</div>"
      ],
      "text/plain": [
       "         cap-shape  cap-surface    cap-color     bruises?  ...  spore-print-color   population      habitat       target\n",
       "count  8124.000000  8124.000000  8124.000000  8124.000000  ...        8124.000000  8124.000000  8124.000000  8124.000000\n",
       "mean      2.491876     1.742984     4.323486     0.584441  ...           3.062038     3.644018     3.221073     0.482029\n",
       "std       0.901287     1.179629     3.444391     0.492848  ...           2.825308     1.252082     2.530692     0.499708\n",
       "min       0.000000     0.000000     0.000000     0.000000  ...           0.000000     0.000000     0.000000     0.000000\n",
       "25%       2.000000     0.000000     0.000000     0.000000  ...           1.000000     3.000000     0.000000     0.000000\n",
       "50%       2.000000     2.000000     3.000000     1.000000  ...           3.000000     4.000000     3.000000     0.000000\n",
       "75%       3.000000     3.000000     8.000000     1.000000  ...           7.000000     4.000000     6.000000     1.000000\n",
       "max       5.000000     3.000000     9.000000     1.000000  ...           8.000000     5.000000     6.000000     1.000000\n",
       "\n",
       "[8 rows x 23 columns]"
      ]
     },
     "execution_count": 34,
     "metadata": {},
     "output_type": "execute_result"
    }
   ],
   "source": [
    "df.describe()"
   ]
  },
  {
   "cell_type": "markdown",
   "metadata": {},
   "source": [
    "it seems that everything is well prepared. "
   ]
  },
  {
   "cell_type": "markdown",
   "metadata": {},
   "source": [
    "<br>"
   ]
  },
  {
   "cell_type": "markdown",
   "metadata": {},
   "source": [
    "## Building Classification model "
   ]
  },
  {
   "cell_type": "code",
   "execution_count": 99,
   "metadata": {},
   "outputs": [],
   "source": [
    "# splitting dataset to train and test datasets  : \n",
    "from sklearn.model_selection import train_test_split\n",
    "y=df.target.values\n",
    "x=df.drop(['target'],axis=1)\n",
    "\n",
    "x_train,x_test,y_train,y_test = train_test_split(x,y,test_size=0.2,random_state=1)"
   ]
  },
  {
   "cell_type": "markdown",
   "metadata": {},
   "source": [
    "### Knn classification "
   ]
  },
  {
   "cell_type": "code",
   "execution_count": 100,
   "metadata": {},
   "outputs": [
    {
     "name": "stdout",
     "output_type": "stream",
     "text": [
      "1.0\n"
     ]
    }
   ],
   "source": [
    "from sklearn.neighbors import KNeighborsClassifier\n",
    "\n",
    "Knn=KNeighborsClassifier(n_neighbors=3)\n",
    "Knn.fit(x_train,y_train)\n",
    "knn_pred = Knn.predict(x_test)\n",
    "knn_score=Knn.score(x_test,y_test)\n",
    "print(knn_score)"
   ]
  },
  {
   "cell_type": "markdown",
   "metadata": {},
   "source": [
    "#### Generating Knn Neeighbour count tester"
   ]
  },
  {
   "cell_type": "code",
   "execution_count": 101,
   "metadata": {},
   "outputs": [
    {
     "data": {
      "image/png": "[encoded data removed]",
      "text/plain": [
       "<Figure size 432x288 with 1 Axes>"
      ]
     },
     "metadata": {
      "needs_background": "light"
     },
     "output_type": "display_data"
    }
   ],
   "source": [
    "score_list=[]\n",
    "for i in range(1,20):\n",
    "    knn2=KNeighborsClassifier(n_neighbors=i)\n",
    "    knn2.fit(x_train,y_train)\n",
    "    score_list.append(knn2.score(x_test,y_test))\n",
    "    \n",
    "plt.plot(range(1,20),score_list)\n",
    "plt.xlabel=\"n neighbours count\"\n",
    "plt.ylabel=\"Model Score\"\n",
    "plt.show()\n"
   ]
  },
  {
   "cell_type": "markdown",
   "metadata": {},
   "source": [
    "**As we can see in the Figure above, n_neighbours count between 1 and 5 will give a result with High Accuracy**"
   ]
  },
  {
   "cell_type": "markdown",
   "metadata": {},
   "source": [
    "<br>"
   ]
  },
  {
   "cell_type": "markdown",
   "metadata": {},
   "source": [
    "### SVM Classification "
   ]
  },
  {
   "cell_type": "code",
   "execution_count": 102,
   "metadata": {},
   "outputs": [
    {
     "name": "stdout",
     "output_type": "stream",
     "text": [
      "The SVM model Score is :  0.9981538461538462\n"
     ]
    }
   ],
   "source": [
    "from sklearn.svm import SVC\n",
    "\n",
    "svm=SVC(random_state=1)\n",
    "svm.fit(x_train,y_train)\n",
    "SV_pred= svm.predict(x_test)\n",
    "\n",
    "SV_score=svm.score(x_test,y_test)\n",
    "print(\"The SVM model Score is : \",SV_score)\n"
   ]
  },
  {
   "cell_type": "markdown",
   "metadata": {},
   "source": [
    "<br>"
   ]
  },
  {
   "cell_type": "markdown",
   "metadata": {},
   "source": [
    "### Decision Tree "
   ]
  },
  {
   "cell_type": "code",
   "execution_count": 103,
   "metadata": {},
   "outputs": [
    {
     "name": "stdout",
     "output_type": "stream",
     "text": [
      "myTree score is :  1.0\n"
     ]
    }
   ],
   "source": [
    "from sklearn.tree import DecisionTreeClassifier # NOTE! that is Desicsion tree Regressor is defferent than Classifier\n",
    "\n",
    "myTree=DecisionTreeClassifier(random_state=1)\n",
    "myTree.fit(x_train,y_train)\n",
    "\n",
    "TreeScore = myTree.score(x_test,y_test)\n",
    "print('myTree score is : ',TreeScore)\n"
   ]
  },
  {
   "cell_type": "markdown",
   "metadata": {},
   "source": [
    "<br>"
   ]
  },
  {
   "cell_type": "markdown",
   "metadata": {},
   "source": [
    "### Random Forest"
   ]
  },
  {
   "cell_type": "code",
   "execution_count": 104,
   "metadata": {},
   "outputs": [
    {
     "name": "stdout",
     "output_type": "stream",
     "text": [
      "myForest Score is :  1.0\n"
     ]
    }
   ],
   "source": [
    "from sklearn.ensemble import RandomForestClassifier\n",
    "\n",
    "myForest=RandomForestClassifier(n_estimators=150, random_state=1)\n",
    "myForest.fit(x_train,y_train)\n",
    "\n",
    "ForestScore = myForest.score(x_test,y_test)\n",
    "print(\"myForest Score is : \",ForestScore)\n"
   ]
  },
  {
   "cell_type": "markdown",
   "metadata": {},
   "source": [
    "<br>"
   ]
  },
  {
   "cell_type": "markdown",
   "metadata": {},
   "source": [
    "## Evaluation of Classification models "
   ]
  },
  {
   "cell_type": "code",
   "execution_count": 105,
   "metadata": {},
   "outputs": [
    {
     "name": "stdout",
     "output_type": "stream",
     "text": [
      "=========== Knn Scores ============\n",
      "Knn R2 Score is :  1.0\n",
      "Knn Mean Absolute Error Score is : 0.0\n",
      "Knn Mean Squared Error Score is :  0.0\n",
      "===================================\n",
      "\n",
      "\n",
      "=========== SVM Scores ============\n",
      "Knn R2 Score is :  0.9925960688542815\n",
      "Knn Mean Absolute Error Score is : 0.0018461538461538461\n",
      "Knn Mean Squared Error Score is :  0.0018461538461538461\n",
      "===================================\n",
      "\n",
      "\n",
      "=========== Tree Scores ============\n",
      "Knn R2 Score is :  1.0\n",
      "Knn Mean Absolute Error Score is : 0.0\n",
      "Knn Mean Squared Error Score is :  0.0\n",
      "====================================\n",
      "\n",
      "\n",
      "=========== Knn Scores ============\n",
      "Knn R2 Score is :  1.0\n",
      "Knn Mean Absolute Error Score is : 0.0\n",
      "Knn Mean Squared Error Score is :  0.0\n",
      "===================================\n",
      "\n",
      "\n"
     ]
    }
   ],
   "source": [
    "from sklearn.metrics import r2_score,mean_absolute_error,mean_squared_error\n",
    "\n",
    "# for Knn : \n",
    "Knn_pred=Knn.predict(x_test)\n",
    "print(\"=========== Knn Scores ============\")\n",
    "print(\"Knn R2 Score is : \", r2_score(y_test,Knn_pred))\n",
    "print(\"Knn Mean Absolute Error Score is :\",mean_absolute_error(y_test,Knn_pred))\n",
    "print(\"Knn Mean Squared Error Score is : \",mean_squared_error(y_test,Knn_pred))\n",
    "print(\"===================================\")\n",
    "print(\"\\n\")\n",
    "\n",
    "# for SVM : \n",
    "SV_pred=svm.predict(x_test)\n",
    "print(\"=========== SVM Scores ============\")\n",
    "print(\"Knn R2 Score is : \", r2_score(y_test,SV_pred))\n",
    "print(\"Knn Mean Absolute Error Score is :\",mean_absolute_error(y_test,SV_pred))\n",
    "print(\"Knn Mean Squared Error Score is : \",mean_squared_error(y_test,SV_pred))\n",
    "print(\"===================================\")\n",
    "print(\"\\n\")\n",
    "\n",
    "# for Decision tree :\n",
    "myTree_pred = myTree.predict(x_test)\n",
    "print(\"=========== Tree Scores ============\")\n",
    "print(\"Knn R2 Score is : \", r2_score(y_test,myTree_pred))\n",
    "print(\"Knn Mean Absolute Error Score is :\",mean_absolute_error(y_test,myTree_pred))\n",
    "print(\"Knn Mean Squared Error Score is : \",mean_squared_error(y_test,myTree_pred))\n",
    "print(\"====================================\")\n",
    "print(\"\\n\")\n",
    "\n",
    "# for the Random Forest : \n",
    "myForest_pred = myForest.predict(x_test)\n",
    "print(\"=========== Knn Scores ============\")\n",
    "print(\"Knn R2 Score is : \", r2_score(y_test,myForest_pred))\n",
    "print(\"Knn Mean Absolute Error Score is :\",mean_absolute_error(y_test,myForest_pred))\n",
    "print(\"Knn Mean Squared Error Score is : \",mean_squared_error(y_test,myForest_pred))\n",
    "print(\"===================================\")\n",
    "print(\"\\n\")"
   ]
  },
  {
   "cell_type": "markdown",
   "metadata": {},
   "source": [
    "## Descussion"
   ]
  },
  {
   "cell_type": "markdown",
   "metadata": {},
   "source": [
    "finally after training a multple classification models based on \"mushroom\" dataset, it gave an accuracy level between 99 to 100 % , it is strange! , but when I made sure about the code, everything was ok. "
   ]
  },
  {
   "cell_type": "code",
   "execution_count": null,
   "metadata": {},
   "outputs": [],
   "source": []
  }
 ],
 "metadata": {
  "kernelspec": {
   "display_name": "Python 3",
   "language": "python",
   "name": "python3"
  },
  "language_info": {
   "codemirror_mode": {
    "name": "ipython",
    "version": 3
   },
   "file_extension": ".py",
   "mimetype": "text/x-python",
   "name": "python",
   "nbconvert_exporter": "python",
   "pygments_lexer": "ipython3",
   "version": "3.7.9"
  }
 },
 "nbformat": 4,
 "nbformat_minor": 4
}
