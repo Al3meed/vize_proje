{
 "cells": [
  {
   "cell_type": "markdown",
   "metadata": {},
   "source": [
    "# Newborns weight prediction according to pregnancy data"
   ]
  },
  {
   "cell_type": "markdown",
   "metadata": {},
   "source": [
    "#### in this project a Regression model been built to predict newborns lengths according to a birth Dataset. \n",
    "#### the dataset contain information about parents health, I used thease data to make the prediction model. "
   ]
  },
  {
   "cell_type": "markdown",
   "metadata": {},
   "source": [
    "## Dataset Parameters : "
   ]
  },
  {
   "cell_type": "markdown",
   "metadata": {},
   "source": [
    "1. headcirumference : Baby's Head Circumference.\n",
    "2. length           : Baby length (inches)\n",
    "3. Birthweight      : Baby's weheight after birth.\n",
    "4. Gestation        : Pregnancy period (weeks).\n",
    "5. smoker           : is the mom smoker ? 0=non-smoker , 1=smoker. \n",
    "6. motherage        : Mother's age \n",
    "7. mnocig           : Mother's number of cigerattes per day. \n",
    "8. mheight          : Mother's height (inches). \n",
    "9. mppwt            : mother pre-pregnancy weight. \n",
    "10. fage            : Father's age. \n",
    "11. fedyrs          : Father's education years. \n",
    "12. fnocig          : Father's number of cigerattes per day.\n",
    "13. fheight         : Father's height(inches).\n",
    "14. lowbwt          : is the birth weight low ? 0=no , 1=yes. \n",
    "15. mage35          : is the mother's age is over 35 ? , 0= no , 1=yes. \n",
    "16. LowBirthWeight  : \"Low\" when the birth weight is low , \"Normal\" when birth weight is normal. "
   ]
  },
  {
   "cell_type": "code",
   "execution_count": 15,
   "metadata": {},
   "outputs": [],
   "source": [
    "import pandas as pd \n",
    "import numpy as np\n",
    "import matplotlib.pyplot as plt \n",
    "import seaborn as sns \n",
    "from sklearn.linear_model import LinearRegression\n",
    "from sklearn.preprocessing import PolynomialFeatures\n",
    "from sklearn.metrics import r2_score,mean_absolute_error,mean_squared_error"
   ]
  },
  {
   "cell_type": "code",
   "execution_count": 2,
   "metadata": {},
   "outputs": [
    {
     "data": {
      "text/html": [
       "<div>\n",
       "<style scoped>\n",
       "    .dataframe tbody tr th:only-of-type {\n",
       "        vertical-align: middle;\n",
       "    }\n",
       "\n",
       "    .dataframe tbody tr th {\n",
       "        vertical-align: top;\n",
       "    }\n",
       "\n",
       "    .dataframe thead th {\n",
       "        text-align: right;\n",
       "    }\n",
       "</style>\n",
       "<table border=\"1\" class=\"dataframe\">\n",
       "  <thead>\n",
       "    <tr style=\"text-align: right;\">\n",
       "      <th></th>\n",
       "      <th>id</th>\n",
       "      <th>headcirumference</th>\n",
       "      <th>length</th>\n",
       "      <th>Birthweight</th>\n",
       "      <th>Gestation</th>\n",
       "      <th>smoker</th>\n",
       "      <th>motherage</th>\n",
       "      <th>mnocig</th>\n",
       "      <th>mheight</th>\n",
       "      <th>mppwt</th>\n",
       "      <th>fage</th>\n",
       "      <th>fedyrs</th>\n",
       "      <th>fnocig</th>\n",
       "      <th>fheight</th>\n",
       "      <th>lowbwt</th>\n",
       "      <th>mage35</th>\n",
       "      <th>LowBirthWeight</th>\n",
       "    </tr>\n",
       "  </thead>\n",
       "  <tbody>\n",
       "    <tr>\n",
       "      <th>0</th>\n",
       "      <td>1313</td>\n",
       "      <td>12</td>\n",
       "      <td>17.0</td>\n",
       "      <td>5.8</td>\n",
       "      <td>33.0</td>\n",
       "      <td>0</td>\n",
       "      <td>24</td>\n",
       "      <td>0</td>\n",
       "      <td>58</td>\n",
       "      <td>99</td>\n",
       "      <td>26</td>\n",
       "      <td>16</td>\n",
       "      <td>0</td>\n",
       "      <td>66</td>\n",
       "      <td>1</td>\n",
       "      <td>0</td>\n",
       "      <td>Low</td>\n",
       "    </tr>\n",
       "    <tr>\n",
       "      <th>1</th>\n",
       "      <td>431</td>\n",
       "      <td>12</td>\n",
       "      <td>19.0</td>\n",
       "      <td>4.2</td>\n",
       "      <td>33.0</td>\n",
       "      <td>1</td>\n",
       "      <td>20</td>\n",
       "      <td>7</td>\n",
       "      <td>63</td>\n",
       "      <td>109</td>\n",
       "      <td>20</td>\n",
       "      <td>10</td>\n",
       "      <td>35</td>\n",
       "      <td>71</td>\n",
       "      <td>1</td>\n",
       "      <td>0</td>\n",
       "      <td>Low</td>\n",
       "    </tr>\n",
       "    <tr>\n",
       "      <th>2</th>\n",
       "      <td>808</td>\n",
       "      <td>13</td>\n",
       "      <td>19.0</td>\n",
       "      <td>6.4</td>\n",
       "      <td>34.0</td>\n",
       "      <td>0</td>\n",
       "      <td>26</td>\n",
       "      <td>0</td>\n",
       "      <td>65</td>\n",
       "      <td>140</td>\n",
       "      <td>25</td>\n",
       "      <td>12</td>\n",
       "      <td>25</td>\n",
       "      <td>69</td>\n",
       "      <td>0</td>\n",
       "      <td>0</td>\n",
       "      <td>Normal</td>\n",
       "    </tr>\n",
       "    <tr>\n",
       "      <th>3</th>\n",
       "      <td>300</td>\n",
       "      <td>12</td>\n",
       "      <td>18.0</td>\n",
       "      <td>4.5</td>\n",
       "      <td>35.0</td>\n",
       "      <td>1</td>\n",
       "      <td>41</td>\n",
       "      <td>7</td>\n",
       "      <td>65</td>\n",
       "      <td>125</td>\n",
       "      <td>37</td>\n",
       "      <td>14</td>\n",
       "      <td>25</td>\n",
       "      <td>68</td>\n",
       "      <td>1</td>\n",
       "      <td>1</td>\n",
       "      <td>Low</td>\n",
       "    </tr>\n",
       "    <tr>\n",
       "      <th>4</th>\n",
       "      <td>516</td>\n",
       "      <td>13</td>\n",
       "      <td>18.0</td>\n",
       "      <td>5.8</td>\n",
       "      <td>35.0</td>\n",
       "      <td>1</td>\n",
       "      <td>20</td>\n",
       "      <td>35</td>\n",
       "      <td>67</td>\n",
       "      <td>125</td>\n",
       "      <td>23</td>\n",
       "      <td>12</td>\n",
       "      <td>50</td>\n",
       "      <td>73</td>\n",
       "      <td>1</td>\n",
       "      <td>0</td>\n",
       "      <td>Low</td>\n",
       "    </tr>\n",
       "  </tbody>\n",
       "</table>\n",
       "</div>"
      ],
      "text/plain": [
       "     id  headcirumference  length  Birthweight  Gestation  smoker  motherage  \\\n",
       "0  1313                12    17.0          5.8       33.0       0         24   \n",
       "1   431                12    19.0          4.2       33.0       1         20   \n",
       "2   808                13    19.0          6.4       34.0       0         26   \n",
       "3   300                12    18.0          4.5       35.0       1         41   \n",
       "4   516                13    18.0          5.8       35.0       1         20   \n",
       "\n",
       "  mnocig  mheight  mppwt  fage  fedyrs  fnocig  fheight  lowbwt  mage35  \\\n",
       "0      0       58     99    26      16       0       66       1       0   \n",
       "1      7       63    109    20      10      35       71       1       0   \n",
       "2      0       65    140    25      12      25       69       0       0   \n",
       "3      7       65    125    37      14      25       68       1       1   \n",
       "4     35       67    125    23      12      50       73       1       0   \n",
       "\n",
       "  LowBirthWeight  \n",
       "0            Low  \n",
       "1            Low  \n",
       "2         Normal  \n",
       "3            Low  \n",
       "4            Low  "
      ]
     },
     "execution_count": 2,
     "metadata": {},
     "output_type": "execute_result"
    }
   ],
   "source": [
    "# importing Dataset \n",
    "df=pd.read_csv('BirthweightNN.csv')\n",
    "df.head()"
   ]
  },
  {
   "cell_type": "markdown",
   "metadata": {},
   "source": [
    "## Dataset cleaning : "
   ]
  },
  {
   "cell_type": "markdown",
   "metadata": {},
   "source": [
    "### Looking for duplicates : "
   ]
  },
  {
   "cell_type": "code",
   "execution_count": 19,
   "metadata": {},
   "outputs": [
    {
     "name": "stdout",
     "output_type": "stream",
     "text": [
      "Number of duplicated :  5\n"
     ]
    },
    {
     "data": {
      "text/html": [
       "<div>\n",
       "<style scoped>\n",
       "    .dataframe tbody tr th:only-of-type {\n",
       "        vertical-align: middle;\n",
       "    }\n",
       "\n",
       "    .dataframe tbody tr th {\n",
       "        vertical-align: top;\n",
       "    }\n",
       "\n",
       "    .dataframe thead th {\n",
       "        text-align: right;\n",
       "    }\n",
       "</style>\n",
       "<table border=\"1\" class=\"dataframe\">\n",
       "  <thead>\n",
       "    <tr style=\"text-align: right;\">\n",
       "      <th></th>\n",
       "      <th>id</th>\n",
       "      <th>headcirumference</th>\n",
       "      <th>length</th>\n",
       "      <th>Birthweight</th>\n",
       "      <th>Gestation</th>\n",
       "      <th>smoker</th>\n",
       "      <th>motherage</th>\n",
       "      <th>mnocig</th>\n",
       "      <th>mheight</th>\n",
       "      <th>mppwt</th>\n",
       "      <th>fage</th>\n",
       "      <th>fedyrs</th>\n",
       "      <th>fnocig</th>\n",
       "      <th>fheight</th>\n",
       "      <th>lowbwt</th>\n",
       "      <th>mage35</th>\n",
       "      <th>LowBirthWeight</th>\n",
       "    </tr>\n",
       "  </thead>\n",
       "  <tbody>\n",
       "    <tr>\n",
       "      <th>108</th>\n",
       "      <td>1312</td>\n",
       "      <td>13</td>\n",
       "      <td>16.0</td>\n",
       "      <td>8.0</td>\n",
       "      <td>37.0</td>\n",
       "      <td>0</td>\n",
       "      <td>23</td>\n",
       "      <td>0</td>\n",
       "      <td>61</td>\n",
       "      <td>119</td>\n",
       "      <td>40</td>\n",
       "      <td>12</td>\n",
       "      <td>18</td>\n",
       "      <td>61</td>\n",
       "      <td>0</td>\n",
       "      <td>0</td>\n",
       "      <td>Normal</td>\n",
       "    </tr>\n",
       "    <tr>\n",
       "      <th>135</th>\n",
       "      <td>562</td>\n",
       "      <td>14</td>\n",
       "      <td>20.0</td>\n",
       "      <td>6.5</td>\n",
       "      <td>41.0</td>\n",
       "      <td>1</td>\n",
       "      <td>19</td>\n",
       "      <td>9</td>\n",
       "      <td>67</td>\n",
       "      <td>151</td>\n",
       "      <td>44</td>\n",
       "      <td>16</td>\n",
       "      <td>0</td>\n",
       "      <td>70</td>\n",
       "      <td>0</td>\n",
       "      <td>0</td>\n",
       "      <td>Normal</td>\n",
       "    </tr>\n",
       "    <tr>\n",
       "      <th>173</th>\n",
       "      <td>1918</td>\n",
       "      <td>13</td>\n",
       "      <td>22.0</td>\n",
       "      <td>9.0</td>\n",
       "      <td>43.0</td>\n",
       "      <td>0</td>\n",
       "      <td>33</td>\n",
       "      <td>0</td>\n",
       "      <td>71</td>\n",
       "      <td>153</td>\n",
       "      <td>36</td>\n",
       "      <td>13</td>\n",
       "      <td>0</td>\n",
       "      <td>71</td>\n",
       "      <td>0</td>\n",
       "      <td>0</td>\n",
       "      <td>Normal</td>\n",
       "    </tr>\n",
       "    <tr>\n",
       "      <th>176</th>\n",
       "      <td>1568</td>\n",
       "      <td>13</td>\n",
       "      <td>23.0</td>\n",
       "      <td>10.0</td>\n",
       "      <td>42.0</td>\n",
       "      <td>1</td>\n",
       "      <td>24</td>\n",
       "      <td>6</td>\n",
       "      <td>70</td>\n",
       "      <td>154</td>\n",
       "      <td>23</td>\n",
       "      <td>11</td>\n",
       "      <td>0</td>\n",
       "      <td>71</td>\n",
       "      <td>0</td>\n",
       "      <td>0</td>\n",
       "      <td>Normal</td>\n",
       "    </tr>\n",
       "    <tr>\n",
       "      <th>190</th>\n",
       "      <td>1002</td>\n",
       "      <td>13</td>\n",
       "      <td>21.0</td>\n",
       "      <td>7.4</td>\n",
       "      <td>37.0</td>\n",
       "      <td>1</td>\n",
       "      <td>21</td>\n",
       "      <td>18</td>\n",
       "      <td>70</td>\n",
       "      <td>154</td>\n",
       "      <td>23</td>\n",
       "      <td>14</td>\n",
       "      <td>10</td>\n",
       "      <td>68</td>\n",
       "      <td>0</td>\n",
       "      <td>0</td>\n",
       "      <td>Normal</td>\n",
       "    </tr>\n",
       "    <tr>\n",
       "      <th>253</th>\n",
       "      <td>1002</td>\n",
       "      <td>13</td>\n",
       "      <td>21.0</td>\n",
       "      <td>7.4</td>\n",
       "      <td>37.0</td>\n",
       "      <td>1</td>\n",
       "      <td>21</td>\n",
       "      <td>18</td>\n",
       "      <td>70</td>\n",
       "      <td>154</td>\n",
       "      <td>23</td>\n",
       "      <td>14</td>\n",
       "      <td>10</td>\n",
       "      <td>68</td>\n",
       "      <td>0</td>\n",
       "      <td>0</td>\n",
       "      <td>Normal</td>\n",
       "    </tr>\n",
       "    <tr>\n",
       "      <th>254</th>\n",
       "      <td>1568</td>\n",
       "      <td>13</td>\n",
       "      <td>23.0</td>\n",
       "      <td>10.0</td>\n",
       "      <td>42.0</td>\n",
       "      <td>1</td>\n",
       "      <td>24</td>\n",
       "      <td>6</td>\n",
       "      <td>70</td>\n",
       "      <td>154</td>\n",
       "      <td>23</td>\n",
       "      <td>11</td>\n",
       "      <td>0</td>\n",
       "      <td>71</td>\n",
       "      <td>0</td>\n",
       "      <td>0</td>\n",
       "      <td>Normal</td>\n",
       "    </tr>\n",
       "    <tr>\n",
       "      <th>255</th>\n",
       "      <td>562</td>\n",
       "      <td>14</td>\n",
       "      <td>20.0</td>\n",
       "      <td>6.5</td>\n",
       "      <td>41.0</td>\n",
       "      <td>1</td>\n",
       "      <td>19</td>\n",
       "      <td>9</td>\n",
       "      <td>67</td>\n",
       "      <td>151</td>\n",
       "      <td>44</td>\n",
       "      <td>16</td>\n",
       "      <td>0</td>\n",
       "      <td>70</td>\n",
       "      <td>0</td>\n",
       "      <td>0</td>\n",
       "      <td>Normal</td>\n",
       "    </tr>\n",
       "    <tr>\n",
       "      <th>256</th>\n",
       "      <td>1312</td>\n",
       "      <td>13</td>\n",
       "      <td>16.0</td>\n",
       "      <td>8.0</td>\n",
       "      <td>37.0</td>\n",
       "      <td>0</td>\n",
       "      <td>23</td>\n",
       "      <td>0</td>\n",
       "      <td>61</td>\n",
       "      <td>119</td>\n",
       "      <td>40</td>\n",
       "      <td>12</td>\n",
       "      <td>18</td>\n",
       "      <td>61</td>\n",
       "      <td>0</td>\n",
       "      <td>0</td>\n",
       "      <td>Normal</td>\n",
       "    </tr>\n",
       "    <tr>\n",
       "      <th>257</th>\n",
       "      <td>1918</td>\n",
       "      <td>13</td>\n",
       "      <td>22.0</td>\n",
       "      <td>9.0</td>\n",
       "      <td>43.0</td>\n",
       "      <td>0</td>\n",
       "      <td>33</td>\n",
       "      <td>0</td>\n",
       "      <td>71</td>\n",
       "      <td>153</td>\n",
       "      <td>36</td>\n",
       "      <td>13</td>\n",
       "      <td>0</td>\n",
       "      <td>71</td>\n",
       "      <td>0</td>\n",
       "      <td>0</td>\n",
       "      <td>Normal</td>\n",
       "    </tr>\n",
       "  </tbody>\n",
       "</table>\n",
       "</div>"
      ],
      "text/plain": [
       "       id  headcirumference  length  Birthweight  Gestation  smoker  \\\n",
       "108  1312                13    16.0          8.0       37.0       0   \n",
       "135   562                14    20.0          6.5       41.0       1   \n",
       "173  1918                13    22.0          9.0       43.0       0   \n",
       "176  1568                13    23.0         10.0       42.0       1   \n",
       "190  1002                13    21.0          7.4       37.0       1   \n",
       "253  1002                13    21.0          7.4       37.0       1   \n",
       "254  1568                13    23.0         10.0       42.0       1   \n",
       "255   562                14    20.0          6.5       41.0       1   \n",
       "256  1312                13    16.0          8.0       37.0       0   \n",
       "257  1918                13    22.0          9.0       43.0       0   \n",
       "\n",
       "     motherage mnocig  mheight  mppwt  fage  fedyrs  fnocig  fheight  lowbwt  \\\n",
       "108         23      0       61    119    40      12      18       61       0   \n",
       "135         19      9       67    151    44      16       0       70       0   \n",
       "173         33      0       71    153    36      13       0       71       0   \n",
       "176         24      6       70    154    23      11       0       71       0   \n",
       "190         21     18       70    154    23      14      10       68       0   \n",
       "253         21     18       70    154    23      14      10       68       0   \n",
       "254         24      6       70    154    23      11       0       71       0   \n",
       "255         19      9       67    151    44      16       0       70       0   \n",
       "256         23      0       61    119    40      12      18       61       0   \n",
       "257         33      0       71    153    36      13       0       71       0   \n",
       "\n",
       "     mage35 LowBirthWeight  \n",
       "108       0         Normal  \n",
       "135       0         Normal  \n",
       "173       0         Normal  \n",
       "176       0         Normal  \n",
       "190       0         Normal  \n",
       "253       0         Normal  \n",
       "254       0         Normal  \n",
       "255       0         Normal  \n",
       "256       0         Normal  \n",
       "257       0         Normal  "
      ]
     },
     "execution_count": 19,
     "metadata": {},
     "output_type": "execute_result"
    }
   ],
   "source": [
    "# how many duplicated we have ? \n",
    "print (\"Number of duplicated : \" ,df.duplicated().sum())\n",
    "dupl = df[df.duplicated(keep=False)]\n",
    "dupl.head(20)"
   ]
  },
  {
   "cell_type": "markdown",
   "metadata": {},
   "source": [
    "**since all duplicated values are Copy-paste from the originals, we simply exclude them from our database.**  "
   ]
  },
  {
   "cell_type": "code",
   "execution_count": 21,
   "metadata": {},
   "outputs": [],
   "source": [
    "#drop duplicates : \n",
    "df.drop_duplicates(inplace=True) "
   ]
  },
  {
   "cell_type": "markdown",
   "metadata": {},
   "source": [
    "### looking for missing values : "
   ]
  },
  {
   "cell_type": "code",
   "execution_count": 28,
   "metadata": {},
   "outputs": [
    {
     "data": {
      "text/html": [
       "<div>\n",
       "<style scoped>\n",
       "    .dataframe tbody tr th:only-of-type {\n",
       "        vertical-align: middle;\n",
       "    }\n",
       "\n",
       "    .dataframe tbody tr th {\n",
       "        vertical-align: top;\n",
       "    }\n",
       "\n",
       "    .dataframe thead th {\n",
       "        text-align: right;\n",
       "    }\n",
       "</style>\n",
       "<table border=\"1\" class=\"dataframe\">\n",
       "  <thead>\n",
       "    <tr style=\"text-align: right;\">\n",
       "      <th></th>\n",
       "      <th>id</th>\n",
       "      <th>headcirumference</th>\n",
       "      <th>length</th>\n",
       "      <th>Birthweight</th>\n",
       "      <th>Gestation</th>\n",
       "      <th>smoker</th>\n",
       "      <th>motherage</th>\n",
       "      <th>mnocig</th>\n",
       "      <th>mheight</th>\n",
       "      <th>mppwt</th>\n",
       "      <th>fage</th>\n",
       "      <th>fedyrs</th>\n",
       "      <th>fnocig</th>\n",
       "      <th>fheight</th>\n",
       "      <th>lowbwt</th>\n",
       "      <th>mage35</th>\n",
       "      <th>LowBirthWeight</th>\n",
       "    </tr>\n",
       "  </thead>\n",
       "  <tbody>\n",
       "    <tr>\n",
       "      <th>83</th>\n",
       "      <td>627</td>\n",
       "      <td>13</td>\n",
       "      <td>23.0</td>\n",
       "      <td>NaN</td>\n",
       "      <td>41.0</td>\n",
       "      <td>0</td>\n",
       "      <td>23</td>\n",
       "      <td>0</td>\n",
       "      <td>70</td>\n",
       "      <td>160</td>\n",
       "      <td>38</td>\n",
       "      <td>12</td>\n",
       "      <td>12</td>\n",
       "      <td>69</td>\n",
       "      <td>0</td>\n",
       "      <td>0</td>\n",
       "      <td>Normal</td>\n",
       "    </tr>\n",
       "    <tr>\n",
       "      <th>93</th>\n",
       "      <td>1146</td>\n",
       "      <td>12</td>\n",
       "      <td>15.5</td>\n",
       "      <td>6.2</td>\n",
       "      <td>NaN</td>\n",
       "      <td>1</td>\n",
       "      <td>25</td>\n",
       "      <td>24</td>\n",
       "      <td>62</td>\n",
       "      <td>110</td>\n",
       "      <td>30</td>\n",
       "      <td>16</td>\n",
       "      <td>14</td>\n",
       "      <td>66</td>\n",
       "      <td>0</td>\n",
       "      <td>0</td>\n",
       "      <td>Normal</td>\n",
       "    </tr>\n",
       "    <tr>\n",
       "      <th>111</th>\n",
       "      <td>896</td>\n",
       "      <td>13</td>\n",
       "      <td>18.0</td>\n",
       "      <td>8.0</td>\n",
       "      <td>NaN</td>\n",
       "      <td>0</td>\n",
       "      <td>24</td>\n",
       "      <td>0</td>\n",
       "      <td>63</td>\n",
       "      <td>117</td>\n",
       "      <td>41</td>\n",
       "      <td>15</td>\n",
       "      <td>0</td>\n",
       "      <td>68</td>\n",
       "      <td>0</td>\n",
       "      <td>0</td>\n",
       "      <td>Normal</td>\n",
       "    </tr>\n",
       "    <tr>\n",
       "      <th>130</th>\n",
       "      <td>893</td>\n",
       "      <td>13</td>\n",
       "      <td>15.0</td>\n",
       "      <td>6.3</td>\n",
       "      <td>NaN</td>\n",
       "      <td>1</td>\n",
       "      <td>23</td>\n",
       "      <td>8</td>\n",
       "      <td>62</td>\n",
       "      <td>109</td>\n",
       "      <td>44</td>\n",
       "      <td>16</td>\n",
       "      <td>20</td>\n",
       "      <td>65</td>\n",
       "      <td>0</td>\n",
       "      <td>0</td>\n",
       "      <td>Normal</td>\n",
       "    </tr>\n",
       "    <tr>\n",
       "      <th>143</th>\n",
       "      <td>887</td>\n",
       "      <td>13</td>\n",
       "      <td>18.0</td>\n",
       "      <td>6.7</td>\n",
       "      <td>NaN</td>\n",
       "      <td>0</td>\n",
       "      <td>33</td>\n",
       "      <td>0</td>\n",
       "      <td>67</td>\n",
       "      <td>156</td>\n",
       "      <td>39</td>\n",
       "      <td>12</td>\n",
       "      <td>0</td>\n",
       "      <td>69</td>\n",
       "      <td>0</td>\n",
       "      <td>0</td>\n",
       "      <td>Normal</td>\n",
       "    </tr>\n",
       "    <tr>\n",
       "      <th>149</th>\n",
       "      <td>1255</td>\n",
       "      <td>13</td>\n",
       "      <td>18.0</td>\n",
       "      <td>6.6</td>\n",
       "      <td>NaN</td>\n",
       "      <td>0</td>\n",
       "      <td>35</td>\n",
       "      <td>0</td>\n",
       "      <td>67</td>\n",
       "      <td>157</td>\n",
       "      <td>40</td>\n",
       "      <td>14</td>\n",
       "      <td>23</td>\n",
       "      <td>66</td>\n",
       "      <td>0</td>\n",
       "      <td>1</td>\n",
       "      <td>Normal</td>\n",
       "    </tr>\n",
       "    <tr>\n",
       "      <th>155</th>\n",
       "      <td>1304</td>\n",
       "      <td>13</td>\n",
       "      <td>20.0</td>\n",
       "      <td>7.2</td>\n",
       "      <td>NaN</td>\n",
       "      <td>0</td>\n",
       "      <td>26</td>\n",
       "      <td>0</td>\n",
       "      <td>67</td>\n",
       "      <td>156</td>\n",
       "      <td>41</td>\n",
       "      <td>14</td>\n",
       "      <td>15</td>\n",
       "      <td>69</td>\n",
       "      <td>0</td>\n",
       "      <td>0</td>\n",
       "      <td>Normal</td>\n",
       "    </tr>\n",
       "    <tr>\n",
       "      <th>187</th>\n",
       "      <td>1962</td>\n",
       "      <td>14</td>\n",
       "      <td>22.0</td>\n",
       "      <td>9.0</td>\n",
       "      <td>NaN</td>\n",
       "      <td>1</td>\n",
       "      <td>20</td>\n",
       "      <td>7</td>\n",
       "      <td>68</td>\n",
       "      <td>158</td>\n",
       "      <td>34</td>\n",
       "      <td>14</td>\n",
       "      <td>0</td>\n",
       "      <td>73</td>\n",
       "      <td>0</td>\n",
       "      <td>0</td>\n",
       "      <td>Normal</td>\n",
       "    </tr>\n",
       "  </tbody>\n",
       "</table>\n",
       "</div>"
      ],
      "text/plain": [
       "       id  headcirumference  length  Birthweight  Gestation  smoker  \\\n",
       "83    627                13    23.0          NaN       41.0       0   \n",
       "93   1146                12    15.5          6.2        NaN       1   \n",
       "111   896                13    18.0          8.0        NaN       0   \n",
       "130   893                13    15.0          6.3        NaN       1   \n",
       "143   887                13    18.0          6.7        NaN       0   \n",
       "149  1255                13    18.0          6.6        NaN       0   \n",
       "155  1304                13    20.0          7.2        NaN       0   \n",
       "187  1962                14    22.0          9.0        NaN       1   \n",
       "\n",
       "     motherage mnocig  mheight  mppwt  fage  fedyrs  fnocig  fheight  lowbwt  \\\n",
       "83          23      0       70    160    38      12      12       69       0   \n",
       "93          25     24       62    110    30      16      14       66       0   \n",
       "111         24      0       63    117    41      15       0       68       0   \n",
       "130         23      8       62    109    44      16      20       65       0   \n",
       "143         33      0       67    156    39      12       0       69       0   \n",
       "149         35      0       67    157    40      14      23       66       0   \n",
       "155         26      0       67    156    41      14      15       69       0   \n",
       "187         20      7       68    158    34      14       0       73       0   \n",
       "\n",
       "     mage35 LowBirthWeight  \n",
       "83        0         Normal  \n",
       "93        0         Normal  \n",
       "111       0         Normal  \n",
       "130       0         Normal  \n",
       "143       0         Normal  \n",
       "149       1         Normal  \n",
       "155       0         Normal  \n",
       "187       0         Normal  "
      ]
     },
     "execution_count": 28,
     "metadata": {},
     "output_type": "execute_result"
    }
   ],
   "source": [
    "na = df[df.isna().any(axis=1)]\n",
    "na"
   ]
  },
  {
   "cell_type": "markdown",
   "metadata": {},
   "source": [
    "**by looking to Null values, they are in Birthweight and Gestation columns , so according to data we can fill them by the mean value of each column.**"
   ]
  },
  {
   "cell_type": "code",
   "execution_count": 3,
   "metadata": {},
   "outputs": [],
   "source": [
    "df['Gestation'].fillna(df.Gestation.mean(),inplace=True)\n",
    "df['Birthweight'].fillna(df.Birthweight.mean(),inplace=True)"
   ]
  },
  {
   "cell_type": "code",
   "execution_count": 37,
   "metadata": {},
   "outputs": [
    {
     "name": "stdout",
     "output_type": "stream",
     "text": [
      "<class 'pandas.core.frame.DataFrame'>\n",
      "Int64Index: 253 entries, 0 to 252\n",
      "Data columns (total 17 columns):\n",
      " #   Column            Non-Null Count  Dtype  \n",
      "---  ------            --------------  -----  \n",
      " 0   id                253 non-null    int64  \n",
      " 1   headcirumference  253 non-null    int64  \n",
      " 2   length            253 non-null    float64\n",
      " 3   Birthweight       253 non-null    float64\n",
      " 4   Gestation         253 non-null    float64\n",
      " 5   smoker            253 non-null    int64  \n",
      " 6   motherage         253 non-null    int64  \n",
      " 7   mnocig            253 non-null    object \n",
      " 8   mheight           253 non-null    int64  \n",
      " 9   mppwt             253 non-null    int64  \n",
      " 10  fage              253 non-null    int64  \n",
      " 11  fedyrs            253 non-null    int64  \n",
      " 12  fnocig            253 non-null    int64  \n",
      " 13  fheight           253 non-null    int64  \n",
      " 14  lowbwt            253 non-null    int64  \n",
      " 15  mage35            253 non-null    int64  \n",
      " 16  LowBirthWeight    253 non-null    object \n",
      "dtypes: float64(3), int64(12), object(2)\n",
      "memory usage: 35.6+ KB\n"
     ]
    }
   ],
   "source": [
    "df.info()"
   ]
  },
  {
   "cell_type": "markdown",
   "metadata": {},
   "source": [
    "**Null+Duplicated values are cleaned !**\n",
    "<br>"
   ]
  },
  {
   "cell_type": "markdown",
   "metadata": {},
   "source": [
    "## looking for the best relattionships to build Regression model on it : "
   ]
  },
  {
   "cell_type": "code",
   "execution_count": 38,
   "metadata": {},
   "outputs": [
    {
     "data": {
      "text/plain": [
       "<AxesSubplot:>"
      ]
     },
     "execution_count": 38,
     "metadata": {},
     "output_type": "execute_result"
    },
    {
     "data": {
      "image/png": "[encoded data removed]",
      "text/plain": [
       "<Figure size 1152x648 with 2 Axes>"
      ]
     },
     "metadata": {
      "needs_background": "light"
     },
     "output_type": "display_data"
    }
   ],
   "source": [
    "#  building a heatmap Matrix : \n",
    "corr = df.corr()\n",
    "plt.figure(figsize=(16,9))\n",
    "sns.heatmap(corr, annot=True, vmax=1,vmin=-1,center=0,cmap='coolwarm')\n"
   ]
  },
  {
   "cell_type": "markdown",
   "metadata": {},
   "source": [
    "<br></br>\n",
    "**by looking at the matrix above, we can easily notice that there is a strong relationship between fheight, Mheight and the length**  \n",
    "**also we can notice that there are some week related data such as fage, and fnocig so we have to drop thease lines later**"
   ]
  },
  {
   "cell_type": "markdown",
   "metadata": {},
   "source": [
    "so we start building our regresssion model : "
   ]
  },
  {
   "cell_type": "markdown",
   "metadata": {},
   "source": [
    "##  Multiple Linear Regression model "
   ]
  },
  {
   "cell_type": "code",
   "execution_count": 4,
   "metadata": {},
   "outputs": [
    {
     "name": "stdout",
     "output_type": "stream",
     "text": [
      "model intercept :  -18.76555486505833 \t model coefficient :  [0.31932915 0.24968496]\n"
     ]
    }
   ],
   "source": [
    "x= df.iloc[:,[8,13]] # selecting mheight and fheight as a multiple regression parameters. \n",
    "y=df.iloc[:,2]       # selecting length as a target of regression . \n",
    "\n",
    "lr=LinearRegression()\n",
    "lr.fit(x,y)\n",
    "print(\"model intercept : \",lr.intercept_, \"\\t model coefficient : \", lr.coef_ )\n"
   ]
  },
  {
   "cell_type": "code",
   "execution_count": 5,
   "metadata": {
    "scrolled": true
   },
   "outputs": [
    {
     "name": "stdout",
     "output_type": "stream",
     "text": [
      "21\n"
     ]
    }
   ],
   "source": [
    "# predicting some data : \n",
    "\n",
    "y_pred=lr.predict([[70,72]]) # what if the mothers length is 70 and the Fathers is 72 ? \n",
    "print(int(y_pred))"
   ]
  },
  {
   "cell_type": "markdown",
   "metadata": {},
   "source": [
    "<br></br>"
   ]
  },
  {
   "cell_type": "markdown",
   "metadata": {},
   "source": [
    "## Polynomial Regression model "
   ]
  },
  {
   "cell_type": "code",
   "execution_count": 6,
   "metadata": {},
   "outputs": [
    {
     "name": "stdout",
     "output_type": "stream",
     "text": [
      "intercept is :  -20018.70535566671 and coef. are :  [ 0.00000000e+00  5.34904296e+02  7.17368763e+02 -1.03172690e+01\n",
      " -5.05618447e+00 -1.39511976e+01  1.48317946e-01 -1.12081924e-01\n",
      "  1.88745468e-01  7.97867611e-02 -1.33278863e-03  2.81148486e-03\n",
      " -3.12079636e-03  9.71906440e-04 -5.15285611e-04]\n"
     ]
    }
   ],
   "source": [
    "\n",
    "pr = PolynomialFeatures(degree=4)\n",
    "x_pol=pr.fit_transform(x)\n",
    "\n",
    "lr_pol =LinearRegression()\n",
    "lr_pol.fit(x_pol,y)\n",
    "\n",
    "print(\"intercept is : \",lr_pol.intercept_, \"and coef. are : \", lr_pol.coef_)"
   ]
  },
  {
   "cell_type": "code",
   "execution_count": 66,
   "metadata": {},
   "outputs": [
    {
     "name": "stdout",
     "output_type": "stream",
     "text": [
      "21\n"
     ]
    }
   ],
   "source": [
    "xpred= pr.fit_transform([[70,72]])\n",
    "ypredicted = lr_pol.predict(xpred)\n",
    "print(int(ypredicted))"
   ]
  },
  {
   "cell_type": "markdown",
   "metadata": {},
   "source": [
    "<br>"
   ]
  },
  {
   "cell_type": "markdown",
   "metadata": {},
   "source": [
    "## Evaluation of the multiple linear and ploynomial model "
   ]
  },
  {
   "cell_type": "code",
   "execution_count": 44,
   "metadata": {},
   "outputs": [
    {
     "name": "stdout",
     "output_type": "stream",
     "text": [
      "============ Multiple Linear Reg. ================\n",
      "R2 score :  0.6639902974381129\n",
      "Mean Absolute Error :  1.0218853560816563\n",
      "Mean squared Error :  1.5967169051692855\n",
      "==================================================\n",
      "\n",
      "\n",
      "=========== Polynomial Linear Reg. ===============\n",
      "R2 score :  0.7025474183857519\n",
      "Mean Absolute Error :  0.940606559729414\n",
      "Mean squared Error :  1.4134936042873334\n",
      "==================================================\n"
     ]
    }
   ],
   "source": [
    "# sklearn error, and score librarries imported in the first block . \n",
    "# multiple reg. evaluation : \n",
    "lr_pred=lr.predict(x)\n",
    "print(\"============ Multiple Linear Reg. ================\")\n",
    "print(\"R2 score : \",r2_score(y,lr_pred))\n",
    "print(\"Mean Absolute Error : \", mean_absolute_error(y,lr_pred))\n",
    "print(\"Mean squared Error : \",mean_squared_error(y,lr_pred))\n",
    "print(\"==================================================\")\n",
    "print(\"\\n\")\n",
    "pol_pred=lr_pol.predict(x_pol)\n",
    "print(\"=========== Polynomial Linear Reg. ===============\")\n",
    "print(\"R2 score : \",r2_score(y,pol_pred))\n",
    "print(\"Mean Absolute Error : \", mean_absolute_error(y,pol_pred))\n",
    "print(\"Mean squared Error : \",mean_squared_error(y,pol_pred))\n",
    "print(\"==================================================\")"
   ]
  },
  {
   "cell_type": "markdown",
   "metadata": {},
   "source": [
    "<br>"
   ]
  },
  {
   "cell_type": "markdown",
   "metadata": {},
   "source": [
    "## Decision tree"
   ]
  },
  {
   "cell_type": "markdown",
   "metadata": {},
   "source": [
    "**To Avoid un-Accuratre R2 score because of model use same data for training and testing purposes we have to split data into 2 seperated datasets one for training and another for testing** "
   ]
  },
  {
   "cell_type": "code",
   "execution_count": 35,
   "metadata": {},
   "outputs": [
    {
     "name": "stdout",
     "output_type": "stream",
     "text": [
      "================results================\n",
      "R2 score :  0.5859661540739094\n",
      "Mean absulote Error :  1.0801282051282053\n",
      "Mean squared Error :  2.2065064102564107\n",
      "=======================================\n"
     ]
    }
   ],
   "source": [
    "import pandas as pd \n",
    "import numpy as np \n",
    "from sklearn.tree import DecisionTreeRegressor\n",
    "from sklearn.metrics import r2_score,mean_absolute_error,mean_squared_error\n",
    "from sklearn.model_selection import train_test_split\n",
    "\n",
    "\n",
    "df = pd.read_csv('BirthweightNN.csv')\n",
    "x=df.iloc[:,[8,13]]\n",
    "y=df.iloc[:,2]\n",
    "# splitting Dataset into 2 different groups  \n",
    "x_train,x_test,y_train,y_test= train_test_split(x,y,test_size=0.1,random_state=42)\n",
    "\n",
    "treeReg= DecisionTreeRegressor(random_state=42)\n",
    "treeReg.fit(x_train,y_train)\n",
    "\n",
    "# predicting X_test group with Decision Tree we made. \n",
    "tree_pred = treeReg.predict(x_test)\n",
    "print('================results================')\n",
    "print('R2 score : ',r2_score(y_test,tree_pred))\n",
    "print('Mean absulote Error : ',mean_absolute_error(y_test,tree_pred))\n",
    "print('Mean squared Error : ',mean_squared_error(y_test,tree_pred))\n",
    "print('=======================================')\n"
   ]
  },
  {
   "cell_type": "markdown",
   "metadata": {},
   "source": [
    "## Random Forest "
   ]
  },
  {
   "cell_type": "code",
   "execution_count": 42,
   "metadata": {},
   "outputs": [
    {
     "name": "stdout",
     "output_type": "stream",
     "text": [
      "================results================\n",
      "Forest R2 score :  0.7153408222792648\n",
      "Forest Mean absulote Error :  0.8718366135187863\n",
      "Forest Mean squared Error :  1.5170312923915987\n",
      "=======================================\n"
     ]
    }
   ],
   "source": [
    "from sklearn.ensemble import RandomForestRegressor\n",
    "RandF = RandomForestRegressor(n_estimators=100, random_state=42)\n",
    "RandF.fit(x_train,y_train)\n",
    "\n",
    "# Predicting values using Random Forest we made\n",
    "Forest_pred = RandF.predict(x_test)\n",
    "print('================results================')\n",
    "print('Forest R2 score : ',r2_score(y_test,Forest_pred))\n",
    "print('Forest Mean absulote Error : ',mean_absolute_error(y_test,Forest_pred))\n",
    "print('Forest Mean squared Error : ',mean_squared_error(y_test,Forest_pred))\n",
    "print('=======================================')"
   ]
  },
  {
   "cell_type": "markdown",
   "metadata": {},
   "source": [
    "## Evaluation of Tree and forest model "
   ]
  },
  {
   "cell_type": "markdown",
   "metadata": {},
   "source": [
    "**Decision Tree and Random Forest Scores :**"
   ]
  },
  {
   "cell_type": "code",
   "execution_count": 43,
   "metadata": {},
   "outputs": [
    {
     "name": "stdout",
     "output_type": "stream",
     "text": [
      "================results================\n",
      "R2 score :  0.5859661540739094\n",
      "Mean absulote Error :  1.0801282051282053\n",
      "Mean squared Error :  2.2065064102564107\n",
      "=======================================\n",
      "\n",
      "\n",
      "================results================\n",
      "Forest R2 score :  0.7153408222792648\n",
      "Forest Mean absulote Error :  0.8718366135187863\n",
      "Forest Mean squared Error :  1.5170312923915987\n",
      "=======================================\n"
     ]
    }
   ],
   "source": [
    "tree_pred = treeReg.predict(x_test)\n",
    "print('================results================')\n",
    "print('R2 score : ',r2_score(y_test,tree_pred))\n",
    "print('Mean absulote Error : ',mean_absolute_error(y_test,tree_pred))\n",
    "print('Mean squared Error : ',mean_squared_error(y_test,tree_pred))\n",
    "print('=======================================')\n",
    "print('\\n')\n",
    "Forest_pred = RandF.predict(x_test)\n",
    "print('================results================')\n",
    "print('Forest R2 score : ',r2_score(y_test,Forest_pred))\n",
    "print('Forest Mean absulote Error : ',mean_absolute_error(y_test,Forest_pred))\n",
    "print('Forest Mean squared Error : ',mean_squared_error(y_test,Forest_pred))\n",
    "print('=======================================')\n"
   ]
  },
  {
   "cell_type": "markdown",
   "metadata": {},
   "source": [
    "## Discussion "
   ]
  },
  {
   "cell_type": "markdown",
   "metadata": {},
   "source": [
    "After applying a fast data claening on the dataset, and developing MultiLinear Regression, Polynomial Regression, Decision Tree and Random forest model and applying it on the dataset, I got a model that could predict results with an accuracy of %69 -%71 .\n",
    "according to the dataset used, it is a good results. "
   ]
  },
  {
   "cell_type": "code",
   "execution_count": null,
   "metadata": {},
   "outputs": [],
   "source": []
  }
 ],
 "metadata": {
  "kernelspec": {
   "display_name": "Python 3",
   "language": "python",
   "name": "python3"
  },
  "language_info": {
   "codemirror_mode": {
    "name": "ipython",
    "version": 3
   },
   "file_extension": ".py",
   "mimetype": "text/x-python",
   "name": "python",
   "nbconvert_exporter": "python",
   "pygments_lexer": "ipython3",
   "version": "3.7.9"
  }
 },
 "nbformat": 4,
 "nbformat_minor": 4
}
